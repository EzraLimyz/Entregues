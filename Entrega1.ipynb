{
  "nbformat": 4,
  "nbformat_minor": 0,
  "metadata": {
    "colab": {
      "provenance": [],
      "authorship_tag": "ABX9TyMd4b/VdNF/W/dHaukcsZHR",
      "include_colab_link": true
    },
    "kernelspec": {
      "name": "python3",
      "display_name": "Python 3"
    },
    "language_info": {
      "name": "python"
    }
  },
  "cells": [
    {
      "cell_type": "markdown",
      "metadata": {
        "id": "view-in-github",
        "colab_type": "text"
      },
      "source": [
        "<a href=\"https://colab.research.google.com/github/EzraLimyz/Entregues/blob/main/Entrega1.ipynb\" target=\"_parent\"><img src=\"https://colab.research.google.com/assets/colab-badge.svg\" alt=\"Open In Colab\"/></a>"
      ]
    },
    {
      "cell_type": "markdown",
      "source": [
        "1. Donades les següents matrius:"
      ],
      "metadata": {
        "id": "HVe-jDX8L-eK"
      }
    },
    {
      "cell_type": "code",
      "source": [
        "import numpy as np"
      ],
      "metadata": {
        "id": "fq7dhSo-3mft"
      },
      "execution_count": null,
      "outputs": []
    },
    {
      "cell_type": "code",
      "source": [
        "A=np.array([[1,2,0],[0,2,0],[0,0,3]])\n",
        "print(A)"
      ],
      "metadata": {
        "colab": {
          "base_uri": "https://localhost:8080/"
        },
        "id": "jD1nZPjyKr-O",
        "outputId": "bdd8845b-104c-4fd0-e94b-731b74da0247"
      },
      "execution_count": null,
      "outputs": [
        {
          "output_type": "stream",
          "name": "stdout",
          "text": [
            "[[1 2 0]\n",
            " [0 2 0]\n",
            " [0 0 3]]\n"
          ]
        }
      ]
    },
    {
      "cell_type": "code",
      "source": [
        "B=np.array([[3,1,0],[0,2,0],[0,0,4]])\n",
        "print(B)"
      ],
      "metadata": {
        "colab": {
          "base_uri": "https://localhost:8080/"
        },
        "id": "tyAkB89FLfRY",
        "outputId": "e5775aec-e4cc-4e2c-cc66-cccfc4dc247e"
      },
      "execution_count": null,
      "outputs": [
        {
          "output_type": "stream",
          "name": "stdout",
          "text": [
            "[[3 1 0]\n",
            " [0 2 0]\n",
            " [0 0 4]]\n"
          ]
        }
      ]
    },
    {
      "cell_type": "code",
      "source": [
        "C=np.array([[2,0,0],[0,-1,1],[0,0,3]])\n",
        "print(C)"
      ],
      "metadata": {
        "colab": {
          "base_uri": "https://localhost:8080/"
        },
        "id": "O2A8r4kILjan",
        "outputId": "af694ff8-6aa4-48ef-aedc-acd72b640253"
      },
      "execution_count": null,
      "outputs": [
        {
          "output_type": "stream",
          "name": "stdout",
          "text": [
            "[[ 2  0  0]\n",
            " [ 0 -1  1]\n",
            " [ 0  0  3]]\n"
          ]
        }
      ]
    },
    {
      "cell_type": "markdown",
      "source": [
        "a) Calcula 3A+2B i (A+B)C"
      ],
      "metadata": {
        "id": "h3geiEjFMCGa"
      }
    },
    {
      "cell_type": "code",
      "source": [
        "print(3*A+2*B)"
      ],
      "metadata": {
        "colab": {
          "base_uri": "https://localhost:8080/"
        },
        "id": "F5wZNFkRMNUZ",
        "outputId": "18d19dd0-132a-472c-8828-e2d6344e8936"
      },
      "execution_count": null,
      "outputs": [
        {
          "output_type": "stream",
          "name": "stdout",
          "text": [
            "[[ 9  8  0]\n",
            " [ 0 10  0]\n",
            " [ 0  0 17]]\n"
          ]
        }
      ]
    },
    {
      "cell_type": "code",
      "source": [
        "print((A+B)*C)"
      ],
      "metadata": {
        "colab": {
          "base_uri": "https://localhost:8080/"
        },
        "id": "AypNQ0jyNjup",
        "outputId": "942a23a5-1d1c-492b-fa64-fe79f1482f35"
      },
      "execution_count": null,
      "outputs": [
        {
          "output_type": "stream",
          "name": "stdout",
          "text": [
            "[[ 8  0  0]\n",
            " [ 0 -4  0]\n",
            " [ 0  0 21]]\n"
          ]
        }
      ]
    },
    {
      "cell_type": "markdown",
      "source": [
        "b) Diagonalitza les matrius i calcula els valors i vectors propis."
      ],
      "metadata": {
        "id": "tD7AJ9_dNs3-"
      }
    },
    {
      "cell_type": "code",
      "source": [
        "Valors, Vectors = np.linalg.eig(A)\n",
        "print(Valors)\n",
        "print(Vectors)"
      ],
      "metadata": {
        "colab": {
          "base_uri": "https://localhost:8080/"
        },
        "id": "TsoVJkYhN2m2",
        "outputId": "90056a6c-976e-4d1f-9841-cf22af316867"
      },
      "execution_count": null,
      "outputs": [
        {
          "output_type": "stream",
          "name": "stdout",
          "text": [
            "[1. 2. 3.]\n",
            "[[1.         0.89442719 0.        ]\n",
            " [0.         0.4472136  0.        ]\n",
            " [0.         0.         1.        ]]\n"
          ]
        }
      ]
    },
    {
      "cell_type": "code",
      "source": [
        "Valors, Vectors = np.linalg.eig(B)\n",
        "print(Valors)\n",
        "print(Vectors)"
      ],
      "metadata": {
        "colab": {
          "base_uri": "https://localhost:8080/"
        },
        "id": "R_q8R8GMP36p",
        "outputId": "aa89ae31-2882-444b-fdbb-d172fb8f422e"
      },
      "execution_count": null,
      "outputs": [
        {
          "output_type": "stream",
          "name": "stdout",
          "text": [
            "[3. 2. 4.]\n",
            "[[ 1.         -0.70710678  0.        ]\n",
            " [ 0.          0.70710678  0.        ]\n",
            " [ 0.          0.          1.        ]]\n"
          ]
        }
      ]
    },
    {
      "cell_type": "code",
      "source": [
        "Valors, Vectors = np.linalg.eig(C)\n",
        "print(Valors)\n",
        "print(Vectors)"
      ],
      "metadata": {
        "colab": {
          "base_uri": "https://localhost:8080/"
        },
        "id": "KabZiL-MP8On",
        "outputId": "1badb85a-9a08-42d6-e4d2-a473e54d9996"
      },
      "execution_count": null,
      "outputs": [
        {
          "output_type": "stream",
          "name": "stdout",
          "text": [
            "[ 2. -1.  3.]\n",
            "[[1.         0.         0.        ]\n",
            " [0.         1.         0.24253563]\n",
            " [0.         0.         0.9701425 ]]\n"
          ]
        }
      ]
    }
  ]
}